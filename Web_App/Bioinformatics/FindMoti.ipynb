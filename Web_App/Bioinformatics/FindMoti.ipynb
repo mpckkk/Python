{
 "cells": [
  {
   "cell_type": "code",
   "execution_count": 18,
   "id": "1580da36-8f5b-4aa1-98b1-e4402bd6d2d7",
   "metadata": {},
   "outputs": [],
   "source": [
    "from Bio import motifs\n",
    "from Bio import SeqIO\n",
    "from Bio.Seq import Seq"
   ]
  },
  {
   "cell_type": "code",
   "execution_count": 21,
   "id": "48bf7e38-017d-4809-8873-f3bf6351b5d2",
   "metadata": {},
   "outputs": [],
   "source": [
    "sites = []\n",
    "sequences = SeqIO.parse('test.fasta','fasta')\n",
    "for record in sequences:\n",
    "    sites.append(record.seq)\n",
    "    \n",
    "motif = motifs.create(sites)\n",
    "motif.weblogo('motif.pdf', format='pdf')"
   ]
  },
  {
   "cell_type": "code",
   "execution_count": null,
   "id": "1e7eaac7-2f7d-4fc0-9980-d80720d0fc2e",
   "metadata": {},
   "outputs": [],
   "source": []
  },
  {
   "cell_type": "code",
   "execution_count": 26,
   "id": "76a5bf45-2f18-4d8c-ae0d-6225bd88a744",
   "metadata": {},
   "outputs": [
    {
     "name": "stdout",
     "output_type": "stream",
     "text": [
      "        0      1      2      3      4      5      6      7      8      9     10     11     12     13     14     15     16     17     18     19\n",
      "A:   1.00   3.00   3.00   1.00   1.00   1.00   2.00   0.00   1.00   0.00   0.00   6.00   0.00   5.00   1.00   2.00   3.00   2.00   0.00   1.00\n",
      "C:   1.00   0.00   1.00   2.00   2.00   1.00   1.00   2.00   1.00   0.00   4.00   0.00   5.00   0.00   4.00   0.00   1.00   1.00   1.00   2.00\n",
      "G:   1.00   3.00   1.00   1.00   2.00   3.00   1.00   2.00   2.00   0.00   2.00   0.00   1.00   0.00   0.00   1.00   1.00   1.00   2.00   2.00\n",
      "T:   3.00   0.00   1.00   2.00   1.00   1.00   2.00   2.00   2.00   6.00   0.00   0.00   0.00   1.00   1.00   3.00   1.00   2.00   3.00   1.00\n",
      "\n"
     ]
    }
   ],
   "source": [
    "instances = [Seq(\"TGATCGTTTTGACAAAAATG\"),\n",
    "    Seq(\"AGCACGGCGTCACACTTTGC\"),\n",
    "    Seq(\"CAAGGTACGTCAGATGACCG\"),\n",
    "    Seq(\"TATTTCCTCTCACTCTCTTT\"),\n",
    "    Seq(\"GAACAAAGATCACACAAAGC\"),\n",
    "    Seq(\"TGGCGGTGTTGACACTGGTA\")]\n",
    "\n",
    "m = motifs.create(instances)\n",
    "#print(m)\n",
    "#len(m)\n",
    "print(m.counts)"
   ]
  },
  {
   "cell_type": "code",
   "execution_count": null,
   "id": "23980164-dc30-4318-a59e-045bcc49c914",
   "metadata": {},
   "outputs": [],
   "source": []
  }
 ],
 "metadata": {
  "kernelspec": {
   "display_name": "Biopython 1.79 (py39)",
   "language": "python",
   "name": "biopython-1.79-py39"
  },
  "language_info": {
   "codemirror_mode": {
    "name": "ipython",
    "version": 3
   },
   "file_extension": ".py",
   "mimetype": "text/x-python",
   "name": "python",
   "nbconvert_exporter": "python",
   "pygments_lexer": "ipython3",
   "version": "3.9.6"
  }
 },
 "nbformat": 4,
 "nbformat_minor": 5
}
